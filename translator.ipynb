{
 "cells": [
  {
   "cell_type": "code",
   "execution_count": 43,
   "metadata": {},
   "outputs": [],
   "source": [
    "import warnings\n",
    "warnings.filterwarnings(\"ignore\")\n",
    "import string\n",
    "import re\n",
    "from unicodedata import normalize\n",
    "import pandas as pd\n",
    "import numpy as np\n",
    "import matplotlib.pyplot as plt\n",
    "from string import punctuation\n",
    "from keras.preprocessing.text import Tokenizer\n",
    "from keras.preprocessing.sequence import pad_sequences\n",
    "from keras.models import Sequential, load_model\n",
    "from keras.layers import Dense, Embedding, LSTM, TimeDistributed, RepeatVector\n",
    "from keras.callbacks import EarlyStopping\n",
    "from keras.utils import to_categorical\n",
    "from nltk.translate.bleu_score import corpus_bleu\n",
    "from IPython.display import Markdown, display\n",
    "\n",
    "def printmd(string):\n",
    "    display(Markdown(string))"
   ]
  },
  {
   "cell_type": "code",
   "execution_count": 44,
   "metadata": {},
   "outputs": [
    {
     "data": {
      "text/markdown": [
       "## 10000 \"parallel sentences will be loaded (original sentence + its translation)\""
      ],
      "text/plain": [
       "<IPython.core.display.Markdown object>"
      ]
     },
     "metadata": {},
     "output_type": "display_data"
    },
    {
     "data": {
      "text/markdown": [
       "## 9000 \"parallel sentences\" will be used to train the model"
      ],
      "text/plain": [
       "<IPython.core.display.Markdown object>"
      ]
     },
     "metadata": {},
     "output_type": "display_data"
    },
    {
     "data": {
      "text/markdown": [
       "## 1000 \"parallel sentences\" will be used to test the model"
      ],
      "text/plain": [
       "<IPython.core.display.Markdown object>"
      ]
     },
     "metadata": {},
     "output_type": "display_data"
    }
   ],
   "source": [
    "total_sentences = 10000\n",
    "\n",
    "dataset = pd.read_csv('./eng_-french.csv/eng_-french.csv')\n",
    "\n",
    "test_proportion = 0.1\n",
    "train_test_threshold = int((1-test_proportion)*total_sentences)\n",
    "\n",
    "printmd(f'## {total_sentences} \"parallel sentences will be loaded (original sentence + its translation)\"')\n",
    "printmd(f'## {train_test_threshold} \"parallel sentences\" will be used to train the model')\n",
    "printmd(f'## {total_sentences-train_test_threshold} \"parallel sentences\" will be used to test the model')"
   ]
  },
  {
   "cell_type": "code",
   "execution_count": 45,
   "metadata": {},
   "outputs": [
    {
     "data": {
      "text/html": [
       "<div>\n",
       "<style scoped>\n",
       "    .dataframe tbody tr th:only-of-type {\n",
       "        vertical-align: middle;\n",
       "    }\n",
       "\n",
       "    .dataframe tbody tr th {\n",
       "        vertical-align: top;\n",
       "    }\n",
       "\n",
       "    .dataframe thead th {\n",
       "        text-align: right;\n",
       "    }\n",
       "</style>\n",
       "<table border=\"1\" class=\"dataframe\">\n",
       "  <thead>\n",
       "    <tr style=\"text-align: right;\">\n",
       "      <th></th>\n",
       "      <th>English words/sentences</th>\n",
       "      <th>French words/sentences</th>\n",
       "    </tr>\n",
       "  </thead>\n",
       "  <tbody>\n",
       "    <tr>\n",
       "      <th>35664</th>\n",
       "      <td>I want to go to Mars.</td>\n",
       "      <td>Je veux me rendre sur Mars.</td>\n",
       "    </tr>\n",
       "    <tr>\n",
       "      <th>11476</th>\n",
       "      <td>I'm not patient.</td>\n",
       "      <td>Je ne suis pas patient.</td>\n",
       "    </tr>\n",
       "    <tr>\n",
       "      <th>16900</th>\n",
       "      <td>We'll never know.</td>\n",
       "      <td>Nous ne le saurons jamais.</td>\n",
       "    </tr>\n",
       "    <tr>\n",
       "      <th>21719</th>\n",
       "      <td>We've made a deal.</td>\n",
       "      <td>Nous avons passé un accord.</td>\n",
       "    </tr>\n",
       "    <tr>\n",
       "      <th>60740</th>\n",
       "      <td>I bought a book of jokes.</td>\n",
       "      <td>J'ai acheté un livre de blagues.</td>\n",
       "    </tr>\n",
       "    <tr>\n",
       "      <th>87850</th>\n",
       "      <td>Are you sure it's impossible?</td>\n",
       "      <td>Êtes-vous sûres que c'est impossible ?</td>\n",
       "    </tr>\n",
       "    <tr>\n",
       "      <th>56665</th>\n",
       "      <td>That dog is really ugly.</td>\n",
       "      <td>Ce chien est vraiment laid.</td>\n",
       "    </tr>\n",
       "    <tr>\n",
       "      <th>169395</th>\n",
       "      <td>Quite a few people were present at the meeting...</td>\n",
       "      <td>Pas mal de gens étaient présents à la réunion ...</td>\n",
       "    </tr>\n",
       "    <tr>\n",
       "      <th>80458</th>\n",
       "      <td>You like Boston, don't you?</td>\n",
       "      <td>Tu aimes Boston, pas vrai ?</td>\n",
       "    </tr>\n",
       "    <tr>\n",
       "      <th>161969</th>\n",
       "      <td>I don't think we should be talking to each other.</td>\n",
       "      <td>Je ne pense pas que nous devrions nous parler.</td>\n",
       "    </tr>\n",
       "  </tbody>\n",
       "</table>\n",
       "</div>"
      ],
      "text/plain": [
       "                                  English words/sentences  \\\n",
       "35664                               I want to go to Mars.   \n",
       "11476                                    I'm not patient.   \n",
       "16900                                   We'll never know.   \n",
       "21719                                  We've made a deal.   \n",
       "60740                           I bought a book of jokes.   \n",
       "87850                       Are you sure it's impossible?   \n",
       "56665                            That dog is really ugly.   \n",
       "169395  Quite a few people were present at the meeting...   \n",
       "80458                         You like Boston, don't you?   \n",
       "161969  I don't think we should be talking to each other.   \n",
       "\n",
       "                                   French words/sentences  \n",
       "35664                         Je veux me rendre sur Mars.  \n",
       "11476                             Je ne suis pas patient.  \n",
       "16900                          Nous ne le saurons jamais.  \n",
       "21719                         Nous avons passé un accord.  \n",
       "60740                    J'ai acheté un livre de blagues.  \n",
       "87850              Êtes-vous sûres que c'est impossible ?  \n",
       "56665                         Ce chien est vraiment laid.  \n",
       "169395  Pas mal de gens étaient présents à la réunion ...  \n",
       "80458                         Tu aimes Boston, pas vrai ?  \n",
       "161969     Je ne pense pas que nous devrions nous parler.  "
      ]
     },
     "execution_count": 45,
     "metadata": {},
     "output_type": "execute_result"
    }
   ],
   "source": [
    "dataset = dataset.sample(frac = 1, random_state = 0)\n",
    "dataset.iloc[1000:1010]\n"
   ]
  },
  {
   "cell_type": "code",
   "execution_count": 46,
   "metadata": {},
   "outputs": [
    {
     "data": {
      "text/html": [
       "<div>\n",
       "<style scoped>\n",
       "    .dataframe tbody tr th:only-of-type {\n",
       "        vertical-align: middle;\n",
       "    }\n",
       "\n",
       "    .dataframe tbody tr th {\n",
       "        vertical-align: top;\n",
       "    }\n",
       "\n",
       "    .dataframe thead th {\n",
       "        text-align: right;\n",
       "    }\n",
       "</style>\n",
       "<table border=\"1\" class=\"dataframe\">\n",
       "  <thead>\n",
       "    <tr style=\"text-align: right;\">\n",
       "      <th></th>\n",
       "      <th>0</th>\n",
       "      <th>1</th>\n",
       "    </tr>\n",
       "  </thead>\n",
       "  <tbody>\n",
       "    <tr>\n",
       "      <th>0</th>\n",
       "      <td>i want to go to mars</td>\n",
       "      <td>je veux me rendre sur mars</td>\n",
       "    </tr>\n",
       "    <tr>\n",
       "      <th>1</th>\n",
       "      <td>i m not patient</td>\n",
       "      <td>je ne suis pas patient</td>\n",
       "    </tr>\n",
       "    <tr>\n",
       "      <th>2</th>\n",
       "      <td>we ll never know</td>\n",
       "      <td>nous ne le saurons jamais</td>\n",
       "    </tr>\n",
       "    <tr>\n",
       "      <th>3</th>\n",
       "      <td>we ve made a deal</td>\n",
       "      <td>nous avons passé un accord</td>\n",
       "    </tr>\n",
       "    <tr>\n",
       "      <th>4</th>\n",
       "      <td>i bought a book of jokes</td>\n",
       "      <td>j ai acheté un livre de blagues</td>\n",
       "    </tr>\n",
       "    <tr>\n",
       "      <th>5</th>\n",
       "      <td>are you sure it s impossible</td>\n",
       "      <td>êtes vous sûres que c est impossible</td>\n",
       "    </tr>\n",
       "    <tr>\n",
       "      <th>6</th>\n",
       "      <td>that dog is really ugly</td>\n",
       "      <td>ce chien est vraiment laid</td>\n",
       "    </tr>\n",
       "    <tr>\n",
       "      <th>7</th>\n",
       "      <td>quite a few people were present at the meeting...</td>\n",
       "      <td>pas mal de gens étaient présents à la réunion ...</td>\n",
       "    </tr>\n",
       "    <tr>\n",
       "      <th>8</th>\n",
       "      <td>you like boston don t you</td>\n",
       "      <td>tu aimes boston pas vrai</td>\n",
       "    </tr>\n",
       "    <tr>\n",
       "      <th>9</th>\n",
       "      <td>i don t think we should be talking to each other</td>\n",
       "      <td>je ne pense pas que nous devrions nous parler</td>\n",
       "    </tr>\n",
       "  </tbody>\n",
       "</table>\n",
       "</div>"
      ],
      "text/plain": [
       "                                                   0  \\\n",
       "0                               i want to go to mars   \n",
       "1                                    i m not patient   \n",
       "2                                   we ll never know   \n",
       "3                                  we ve made a deal   \n",
       "4                           i bought a book of jokes   \n",
       "5                       are you sure it s impossible   \n",
       "6                            that dog is really ugly   \n",
       "7  quite a few people were present at the meeting...   \n",
       "8                          you like boston don t you   \n",
       "9   i don t think we should be talking to each other   \n",
       "\n",
       "                                                   1  \n",
       "0                         je veux me rendre sur mars  \n",
       "1                             je ne suis pas patient  \n",
       "2                          nous ne le saurons jamais  \n",
       "3                         nous avons passé un accord  \n",
       "4                    j ai acheté un livre de blagues  \n",
       "5               êtes vous sûres que c est impossible  \n",
       "6                         ce chien est vraiment laid  \n",
       "7  pas mal de gens étaient présents à la réunion ...  \n",
       "8                           tu aimes boston pas vrai  \n",
       "9      je ne pense pas que nous devrions nous parler  "
      ]
     },
     "execution_count": 46,
     "metadata": {},
     "output_type": "execute_result"
    }
   ],
   "source": [
    "def clean(string):\n",
    "    string = string.replace(\"\\u202f\",\" \")\n",
    "    string = string.lower()\n",
    "\n",
    "    for p in punctuation + \"«»\" + \"0123456789\":\n",
    "        string = string.replace(p,\" \")\n",
    "\n",
    "    string = re.sub('\\s+',' ',string)\n",
    "    string = string.strip()\n",
    "\n",
    "    return string\n",
    "\n",
    "dataset[\"English words/sentences\"] = dataset[\"English words/sentences\"].apply(lambda x: clean(x))\n",
    "dataset[\"French words/sentences\"] = dataset[\"French words/sentences\"].apply(lambda x: clean(x))\n",
    "\n",
    "dataset = dataset.values\n",
    "dataset = dataset[:total_sentences]\n",
    "\n",
    "train, test = dataset[:train_test_threshold], dataset[train_test_threshold:]\n",
    "\n",
    "source_str, target_str = \"French\", \"English\"\n",
    "\n",
    "idx_src, idx_tar = 1, 0\n",
    "pd.DataFrame(dataset[1000:1010])"
   ]
  },
  {
   "cell_type": "code",
   "execution_count": 47,
   "metadata": {},
   "outputs": [
    {
     "data": {
      "text/markdown": [
       "\n",
       "Target (English) Vocabulary Size: 4644"
      ],
      "text/plain": [
       "<IPython.core.display.Markdown object>"
      ]
     },
     "metadata": {},
     "output_type": "display_data"
    },
    {
     "data": {
      "text/markdown": [
       "Target (English) Max Length: 39"
      ],
      "text/plain": [
       "<IPython.core.display.Markdown object>"
      ]
     },
     "metadata": {},
     "output_type": "display_data"
    },
    {
     "data": {
      "text/markdown": [
       "\n",
       "Source (French) Vocabulary Size: 6708"
      ],
      "text/plain": [
       "<IPython.core.display.Markdown object>"
      ]
     },
     "metadata": {},
     "output_type": "display_data"
    },
    {
     "data": {
      "text/markdown": [
       "Source (French) Max Length: 50\n"
      ],
      "text/plain": [
       "<IPython.core.display.Markdown object>"
      ]
     },
     "metadata": {},
     "output_type": "display_data"
    }
   ],
   "source": [
    "def create_tokenizer(lines):\n",
    "    tokenizer = Tokenizer()\n",
    "    tokenizer.fit_on_texts(lines)\n",
    "    return tokenizer\n",
    "\n",
    "def max_len(lines):\n",
    "    return max(len(line.split()) for line in lines)\n",
    "\n",
    "def encode_sequences(tokenizer,length,lines):\n",
    "    X = tokenizer.texts_to_sequences(lines)\n",
    "    X = pad_sequences(X, maxlen=length,padding='post')\n",
    "    return X\n",
    "\n",
    "def encode_output(sequences,vocab_size):\n",
    "    ylist = list()\n",
    "    for sequence in sequences:\n",
    "        encoded = to_categorical(sequence,num_classes=vocab_size)\n",
    "        ylist.append(encoded)\n",
    "    y = np.array(ylist)\n",
    "    y = y.reshape(sequences.shape[0], sequences.shape[1], vocab_size)\n",
    "    return y\n",
    "\n",
    "tar_tokenizer = create_tokenizer(dataset[:,idx_tar])\n",
    "tar_vocab_size = len(tar_tokenizer.word_index)+1\n",
    "tar_length = max_len(dataset[:, idx_tar])\n",
    "printmd(f'\\nTarget ({target_str}) Vocabulary Size: {tar_vocab_size}')\n",
    "printmd(f\"Target ({target_str}) Max Length: {tar_length}\")\n",
    "\n",
    "src_tokenizer = create_tokenizer(dataset[:,idx_src])\n",
    "src_vocab_size = len(src_tokenizer.word_index)+1\n",
    "src_length = max_len(dataset[:, idx_src])\n",
    "printmd(f'\\nSource ({source_str}) Vocabulary Size: {src_vocab_size}')\n",
    "printmd(f'Source ({source_str}) Max Length: {src_length}\\n')\n",
    "\n",
    "trainX = encode_sequences(src_tokenizer,src_length,train[:,idx_src])\n",
    "trainY = encode_sequences(tar_tokenizer,tar_length,train[:,idx_tar])\n",
    "trainY = encode_output(trainY,tar_vocab_size)\n",
    "\n",
    "testX = encode_sequences(src_tokenizer,src_length,test[:, idx_src])\n",
    "testY = encode_sequences(tar_tokenizer, tar_length, test[:, idx_tar])\n",
    "testY = encode_output(testY, tar_vocab_size)"
   ]
  },
  {
   "cell_type": "code",
   "execution_count": 48,
   "metadata": {},
   "outputs": [
    {
     "name": "stdout",
     "output_type": "stream",
     "text": [
      "Epoch 1/20\n",
      "127/127 [==============================] - 161s 1s/step - loss: 1.8843 - val_loss: 1.1606\n",
      "Epoch 2/20\n",
      "127/127 [==============================] - 191s 2s/step - loss: 1.1399 - val_loss: 1.1408\n",
      "Epoch 3/20\n",
      "127/127 [==============================] - 243s 2s/step - loss: 1.1381 - val_loss: 1.1752\n",
      "Epoch 4/20\n",
      "127/127 [==============================] - 250s 2s/step - loss: 1.0539 - val_loss: 1.0604\n",
      "Epoch 5/20\n",
      "127/127 [==============================] - 239s 2s/step - loss: 1.0168 - val_loss: 1.0586\n",
      "Epoch 6/20\n",
      "127/127 [==============================] - 248s 2s/step - loss: 1.0048 - val_loss: 1.0541\n",
      "Epoch 7/20\n",
      "127/127 [==============================] - 244s 2s/step - loss: 0.9973 - val_loss: 1.0553\n",
      "Epoch 8/20\n",
      "127/127 [==============================] - 241s 2s/step - loss: 0.9873 - val_loss: 1.0541\n",
      "Epoch 9/20\n",
      "127/127 [==============================] - 248s 2s/step - loss: 0.9807 - val_loss: 1.0626\n",
      "Epoch 10/20\n",
      "127/127 [==============================] - 243s 2s/step - loss: 0.9743 - val_loss: 1.0594\n",
      "Epoch 11/20\n",
      "127/127 [==============================] - 245s 2s/step - loss: 0.9676 - val_loss: 1.0576\n",
      "Epoch 12/20\n",
      "127/127 [==============================] - 252s 2s/step - loss: 0.9615 - val_loss: 1.0632\n",
      "Epoch 13/20\n",
      "127/127 [==============================] - 265s 2s/step - loss: 0.9560 - val_loss: 1.0636\n",
      "Epoch 14/20\n",
      "127/127 [==============================] - 251s 2s/step - loss: 0.9504 - val_loss: 1.0607\n",
      "Epoch 15/20\n",
      "127/127 [==============================] - 242s 2s/step - loss: 0.9446 - val_loss: 1.0643\n",
      "Epoch 16/20\n",
      "127/127 [==============================] - 245s 2s/step - loss: 0.9377 - val_loss: 1.0584\n"
     ]
    }
   ],
   "source": [
    "def create_model(src_vocab ,tar_vocab, src_timestamps, tar_timestamps, n_units):\n",
    "    model = Sequential()\n",
    "    model.add(Embedding(src_vocab, n_units, input_length=src_timestamps, mask_zero=True))\n",
    "    model.add(LSTM(n_units))\n",
    "    model.add(RepeatVector(tar_timestamps))\n",
    "    model.add(LSTM(n_units, return_sequences=True))\n",
    "    model.add(TimeDistributed(Dense(tar_vocab, activation='softmax')))\n",
    "    return model\n",
    "\n",
    "model = create_model(src_vocab_size, tar_vocab_size, src_length, tar_length, 256)\n",
    "model.compile(optimizer='adam', loss='categorical_crossentropy')\n",
    "history = model.fit(trainX,\n",
    "                    trainY,\n",
    "                    epochs=20,\n",
    "                    batch_size=64,\n",
    "                    validation_split=0.1,\n",
    "                    verbose=1,\n",
    "                    callbacks=[\n",
    "                        EarlyStopping(\n",
    "                            monitor='val_loss',\n",
    "                            patience=10,\n",
    "                            restore_best_weights=True\n",
    "                        )\n",
    "                    ])\n"
   ]
  },
  {
   "cell_type": "code",
   "execution_count": 49,
   "metadata": {},
   "outputs": [
    {
     "data": {
      "image/png": "[encoded data removed]",
      "text/plain": [
       "<Figure size 640x480 with 1 Axes>"
      ]
     },
     "metadata": {},
     "output_type": "display_data"
    }
   ],
   "source": [
    "pd.DataFrame(history.history).plot()\n",
    "plt.title('Loss')\n",
    "plt.show()"
   ]
  },
  {
   "cell_type": "code",
   "execution_count": 50,
   "metadata": {},
   "outputs": [
    {
     "name": "stdout",
     "output_type": "stream",
     "text": [
      "### Result on the Training Set ###\n",
      "FRENCH (Source)                ENGLISH (Target)          Automatic translation in ENGLISH\n",
      "\n",
      "nous changeons toutes          we all change             i you\n",
      "je ne suis pas cynique à ce point là i m not that cynical      i you you to\n",
      "j aimerais te dire quelque chose en privé i d like to tell you something in private i you you to to to\n",
      "le restaurant était loin de la gare the restaurant was far from the train station i you you to to\n",
      "tom ne sait pas où marie a l habitude d aller skier tom doesn t know where mary usually goes skiing i you you to to to to\n",
      "je ne veux pas perdre mary     i don t want to lose mary i you you to to\n",
      "elle est partie                she went out              i you you\n",
      "quel est le nom de ton petit copain what s your boyfriend s name i you you to\n",
      "nous n allons pas arrêter maintenant we re not going to stop now i you you to to\n",
      "j étais insouciant             i was careless            i you\n",
      "je suis désolée d avoir raté ton anniversaire i m sorry i missed your birthday i you you to to\n",
      "je n ai pas réalisé que tu étais éveillée i didn t realize you were awake i you you to to\n",
      "tout va bien se passer         everything s going to be all right i you you to\n",
      "ne t en fais pas je suis muet comme une tombe don t worry my lips are sealed i you you to to\n",
      "vous êtes la personne la plus importante dans ma vie you are the most important person in my life i you you to to to to\n",
      "tu devrais aller chez nous maintenant you should go home now    i you you to to\n",
      "tu vas passer du très bon temps you ll have a wonderful time i you you to to to\n",
      "il n est pas tel qu il paraît  he is not like he seems   i you you to to\n",
      "je veux qu on me choie         i want to be pampered     i you you to\n",
      "seras tu encore là quand je vais revenir will you still be here when i get back i you you to to to to\n",
      "attendez je veux vous dire quelque chose wait i want to tell you something i you you to to\n",
      "\n",
      "\n",
      "### Result on the Test Set ###\n",
      "FRENCH (Source)                ENGLISH (Target)          Automatic translation in ENGLISH\n",
      "\n",
      "pourrais tu mettre à jour ces données pour moi could i get you to update this data for me i you you to to to\n",
      "vous êtes sympa                you re nice               i you\n",
      "tu n es pas forcé d y croire mais c est néanmoins la vérité you may not believe it but it is nonetheless true i you you to to to to to\n",
      "je ne me plains pas souvent    i don t complain often    i you you to\n",
      "je me sens mal à ce sujet      i feel bad about it       i you you\n",
      "prenez vous plaisir à votre week end are you enjoying your weekend i you you to\n",
      "je n ai pas eu beaucoup de sommeil i haven t had much sleep  i you you to to\n",
      "disposeriez vous de temps pour m aider à quelque chose would you have time to help me with something i you you to to to\n",
      "qu est ce qui t est arrivé hier soir what happened to you last night i you you to to\n",
      "je suis offensé                i m offended              i you\n",
      "êtes vous prêts à faire la fête are you ready to party    i you you to to\n",
      "je vous ai crues               i believed you            i you you\n",
      "puis je emprunter ceci pour un petit moment can i borrow this for a little while i you you to to to\n",
      "j imagine que c est la vôtre   i m guessing this is yours i you you\n",
      "le jazz fusion est un mélange de rock et de jazz jazz fusion is a combination of rock and jazz i you you to to to\n",
      "qu est ce que ça fait          how does it feel          i you you to\n",
      "ce matin nous avons eu une épaisse couche de givre we had a heavy frost this morning i you you to to to\n",
      "je me suis rendu à l aéroport en taxi i went to the airport by taxi i you you to to\n",
      "nous savons nous y prendre     we can handle that        i you you to\n",
      "étudies tu toujours le français are you still studying french i you you to\n",
      "il était blessé à l épaule     he was wounded in the shoulder i you you to\n"
     ]
    }
   ],
   "source": [
    "def word_for_id(integer,tokenizer):\n",
    "    for word, index in tokenizer.word_index.items():\n",
    "        if index == integer:\n",
    "            return word\n",
    "    return None\n",
    "\n",
    "def predict_seq(model, tokenizer, source):\n",
    "    prediction = model.predict(source,verbose=0)[0]\n",
    "    integers = [np.argmax(vector) for vector in prediction]\n",
    "    target = list()\n",
    "    for i in integers:\n",
    "        word = word_for_id(i, tokenizer)\n",
    "        if word is None:\n",
    "            break\n",
    "        target.append(word)\n",
    "    return ' '.join(target)\n",
    "\n",
    "def compare_prediction(model, tokenizer, sources, raw_dataset, limit=20):\n",
    "    actual, predicted = [], []\n",
    "    src = f'{source_str.upper()} (Source)'\n",
    "    tgt = f'{target_str.upper()} (Target)'\n",
    "    pred = f'Automatic translation in {target_str.upper()}'\n",
    "    print(f'{src:30} {tgt:25} {pred}\\n')\n",
    "\n",
    "    for i, source in enumerate(sources):\n",
    "        source = source.reshape((1,source.shape[0]))\n",
    "        translation = predict_seq(model, tar_tokenizer, source)\n",
    "        raw_target, raw_src = raw_dataset[i]\n",
    "        print(f'{raw_src:30} {raw_target:25} {translation}')\n",
    "        if i >= limit:\n",
    "            break\n",
    "\n",
    "print('### Result on the Training Set ###')\n",
    "compare_prediction(model, tar_tokenizer, trainX, train)\n",
    "\n",
    "# test on some test sequences\n",
    "print('\\n\\n### Result on the Test Set ###')\n",
    "compare_prediction(model, tar_tokenizer, testX, test)\n"
   ]
  },
  {
   "cell_type": "code",
   "execution_count": 51,
   "metadata": {},
   "outputs": [
    {
     "ename": "KeyboardInterrupt",
     "evalue": "",
     "output_type": "error",
     "traceback": [
      "\u001b[1;31m---------------------------------------------------------------------------\u001b[0m",
      "\u001b[1;31mKeyboardInterrupt\u001b[0m                         Traceback (most recent call last)",
      "\u001b[1;32mc:\\Users\\abhij\\Desktop\\translate_project\\translator.ipynb Cell 9\u001b[0m line \u001b[0;36m1\n\u001b[0;32m     <a href='vscode-notebook-cell:/c%3A/Users/abhij/Desktop/translate_project/translator.ipynb#X11sZmlsZQ%3D%3D?line=15'>16</a>\u001b[0m     \u001b[39mreturn\u001b[39;00m bleu_dic\n\u001b[0;32m     <a href='vscode-notebook-cell:/c%3A/Users/abhij/Desktop/translate_project/translator.ipynb#X11sZmlsZQ%3D%3D?line=17'>18</a>\u001b[0m bleu_train \u001b[39m=\u001b[39m bleu_score(model, tar_tokenizer, trainX, train)\n\u001b[1;32m---> <a href='vscode-notebook-cell:/c%3A/Users/abhij/Desktop/translate_project/translator.ipynb#X11sZmlsZQ%3D%3D?line=18'>19</a>\u001b[0m bleu_test \u001b[39m=\u001b[39m bleu_score(model, tar_tokenizer, testX, test)\n\u001b[0;32m     <a href='vscode-notebook-cell:/c%3A/Users/abhij/Desktop/translate_project/translator.ipynb#X11sZmlsZQ%3D%3D?line=20'>21</a>\u001b[0m plt\u001b[39m.\u001b[39mbar(x \u001b[39m=\u001b[39m bleu_train\u001b[39m.\u001b[39mkeys(), height \u001b[39m=\u001b[39m bleu_train\u001b[39m.\u001b[39mvalues())\n\u001b[0;32m     <a href='vscode-notebook-cell:/c%3A/Users/abhij/Desktop/translate_project/translator.ipynb#X11sZmlsZQ%3D%3D?line=21'>22</a>\u001b[0m plt\u001b[39m.\u001b[39mtitle(\u001b[39m\"\u001b[39m\u001b[39mBLEU score with the training set\u001b[39m\u001b[39m\"\u001b[39m)\n",
      "\u001b[1;32mc:\\Users\\abhij\\Desktop\\translate_project\\translator.ipynb Cell 9\u001b[0m line \u001b[0;36m5\n\u001b[0;32m      <a href='vscode-notebook-cell:/c%3A/Users/abhij/Desktop/translate_project/translator.ipynb#X11sZmlsZQ%3D%3D?line=2'>3</a>\u001b[0m \u001b[39mfor\u001b[39;00m i, source \u001b[39min\u001b[39;00m \u001b[39menumerate\u001b[39m(sources):\n\u001b[0;32m      <a href='vscode-notebook-cell:/c%3A/Users/abhij/Desktop/translate_project/translator.ipynb#X11sZmlsZQ%3D%3D?line=3'>4</a>\u001b[0m     source \u001b[39m=\u001b[39m source\u001b[39m.\u001b[39mreshape((\u001b[39m1\u001b[39m,source\u001b[39m.\u001b[39mshape[\u001b[39m0\u001b[39m]))\n\u001b[1;32m----> <a href='vscode-notebook-cell:/c%3A/Users/abhij/Desktop/translate_project/translator.ipynb#X11sZmlsZQ%3D%3D?line=4'>5</a>\u001b[0m     translation \u001b[39m=\u001b[39m predict_seq(model, tar_tokenizer, source)\n\u001b[0;32m      <a href='vscode-notebook-cell:/c%3A/Users/abhij/Desktop/translate_project/translator.ipynb#X11sZmlsZQ%3D%3D?line=5'>6</a>\u001b[0m     raw_target, raw_src \u001b[39m=\u001b[39m raw_dataset[i]\n\u001b[0;32m      <a href='vscode-notebook-cell:/c%3A/Users/abhij/Desktop/translate_project/translator.ipynb#X11sZmlsZQ%3D%3D?line=6'>7</a>\u001b[0m     actual\u001b[39m.\u001b[39mappend([raw_target\u001b[39m.\u001b[39msplit()])\n",
      "\u001b[1;32mc:\\Users\\abhij\\Desktop\\translate_project\\translator.ipynb Cell 9\u001b[0m line \u001b[0;36m8\n\u001b[0;32m      <a href='vscode-notebook-cell:/c%3A/Users/abhij/Desktop/translate_project/translator.ipynb#X11sZmlsZQ%3D%3D?line=6'>7</a>\u001b[0m \u001b[39mdef\u001b[39;00m \u001b[39mpredict_seq\u001b[39m(model, tokenizer, source):\n\u001b[1;32m----> <a href='vscode-notebook-cell:/c%3A/Users/abhij/Desktop/translate_project/translator.ipynb#X11sZmlsZQ%3D%3D?line=7'>8</a>\u001b[0m     prediction \u001b[39m=\u001b[39m model\u001b[39m.\u001b[39;49mpredict(source,verbose\u001b[39m=\u001b[39;49m\u001b[39m0\u001b[39;49m)[\u001b[39m0\u001b[39m]\n\u001b[0;32m      <a href='vscode-notebook-cell:/c%3A/Users/abhij/Desktop/translate_project/translator.ipynb#X11sZmlsZQ%3D%3D?line=8'>9</a>\u001b[0m     integers \u001b[39m=\u001b[39m [np\u001b[39m.\u001b[39margmax(vector) \u001b[39mfor\u001b[39;00m vector \u001b[39min\u001b[39;00m prediction]\n\u001b[0;32m     <a href='vscode-notebook-cell:/c%3A/Users/abhij/Desktop/translate_project/translator.ipynb#X11sZmlsZQ%3D%3D?line=9'>10</a>\u001b[0m     target \u001b[39m=\u001b[39m \u001b[39mlist\u001b[39m()\n",
      "File \u001b[1;32mc:\\Users\\abhij\\AppData\\Local\\Programs\\Python\\Python311\\Lib\\site-packages\\keras\\src\\utils\\traceback_utils.py:65\u001b[0m, in \u001b[0;36mfilter_traceback.<locals>.error_handler\u001b[1;34m(*args, **kwargs)\u001b[0m\n\u001b[0;32m     63\u001b[0m filtered_tb \u001b[39m=\u001b[39m \u001b[39mNone\u001b[39;00m\n\u001b[0;32m     64\u001b[0m \u001b[39mtry\u001b[39;00m:\n\u001b[1;32m---> 65\u001b[0m     \u001b[39mreturn\u001b[39;00m fn(\u001b[39m*\u001b[39;49margs, \u001b[39m*\u001b[39;49m\u001b[39m*\u001b[39;49mkwargs)\n\u001b[0;32m     66\u001b[0m \u001b[39mexcept\u001b[39;00m \u001b[39mException\u001b[39;00m \u001b[39mas\u001b[39;00m e:\n\u001b[0;32m     67\u001b[0m     filtered_tb \u001b[39m=\u001b[39m _process_traceback_frames(e\u001b[39m.\u001b[39m__traceback__)\n",
      "File \u001b[1;32mc:\\Users\\abhij\\AppData\\Local\\Programs\\Python\\Python311\\Lib\\site-packages\\keras\\src\\engine\\training.py:2631\u001b[0m, in \u001b[0;36mModel.predict\u001b[1;34m(self, x, batch_size, verbose, steps, callbacks, max_queue_size, workers, use_multiprocessing)\u001b[0m\n\u001b[0;32m   2629\u001b[0m \u001b[39mfor\u001b[39;00m step \u001b[39min\u001b[39;00m data_handler\u001b[39m.\u001b[39msteps():\n\u001b[0;32m   2630\u001b[0m     callbacks\u001b[39m.\u001b[39mon_predict_batch_begin(step)\n\u001b[1;32m-> 2631\u001b[0m     tmp_batch_outputs \u001b[39m=\u001b[39m \u001b[39mself\u001b[39;49m\u001b[39m.\u001b[39;49mpredict_function(iterator)\n\u001b[0;32m   2632\u001b[0m     \u001b[39mif\u001b[39;00m data_handler\u001b[39m.\u001b[39mshould_sync:\n\u001b[0;32m   2633\u001b[0m         context\u001b[39m.\u001b[39masync_wait()\n",
      "File \u001b[1;32mc:\\Users\\abhij\\AppData\\Local\\Programs\\Python\\Python311\\Lib\\site-packages\\tensorflow\\python\\util\\traceback_utils.py:150\u001b[0m, in \u001b[0;36mfilter_traceback.<locals>.error_handler\u001b[1;34m(*args, **kwargs)\u001b[0m\n\u001b[0;32m    148\u001b[0m filtered_tb \u001b[39m=\u001b[39m \u001b[39mNone\u001b[39;00m\n\u001b[0;32m    149\u001b[0m \u001b[39mtry\u001b[39;00m:\n\u001b[1;32m--> 150\u001b[0m   \u001b[39mreturn\u001b[39;00m fn(\u001b[39m*\u001b[39;49margs, \u001b[39m*\u001b[39;49m\u001b[39m*\u001b[39;49mkwargs)\n\u001b[0;32m    151\u001b[0m \u001b[39mexcept\u001b[39;00m \u001b[39mException\u001b[39;00m \u001b[39mas\u001b[39;00m e:\n\u001b[0;32m    152\u001b[0m   filtered_tb \u001b[39m=\u001b[39m _process_traceback_frames(e\u001b[39m.\u001b[39m__traceback__)\n",
      "File \u001b[1;32mc:\\Users\\abhij\\AppData\\Local\\Programs\\Python\\Python311\\Lib\\site-packages\\tensorflow\\python\\eager\\polymorphic_function\\polymorphic_function.py:831\u001b[0m, in \u001b[0;36mFunction.__call__\u001b[1;34m(self, *args, **kwds)\u001b[0m\n\u001b[0;32m    828\u001b[0m compiler \u001b[39m=\u001b[39m \u001b[39m\"\u001b[39m\u001b[39mxla\u001b[39m\u001b[39m\"\u001b[39m \u001b[39mif\u001b[39;00m \u001b[39mself\u001b[39m\u001b[39m.\u001b[39m_jit_compile \u001b[39melse\u001b[39;00m \u001b[39m\"\u001b[39m\u001b[39mnonXla\u001b[39m\u001b[39m\"\u001b[39m\n\u001b[0;32m    830\u001b[0m \u001b[39mwith\u001b[39;00m OptionalXlaContext(\u001b[39mself\u001b[39m\u001b[39m.\u001b[39m_jit_compile):\n\u001b[1;32m--> 831\u001b[0m   result \u001b[39m=\u001b[39m \u001b[39mself\u001b[39;49m\u001b[39m.\u001b[39;49m_call(\u001b[39m*\u001b[39;49margs, \u001b[39m*\u001b[39;49m\u001b[39m*\u001b[39;49mkwds)\n\u001b[0;32m    833\u001b[0m new_tracing_count \u001b[39m=\u001b[39m \u001b[39mself\u001b[39m\u001b[39m.\u001b[39mexperimental_get_tracing_count()\n\u001b[0;32m    834\u001b[0m without_tracing \u001b[39m=\u001b[39m (tracing_count \u001b[39m==\u001b[39m new_tracing_count)\n",
      "File \u001b[1;32mc:\\Users\\abhij\\AppData\\Local\\Programs\\Python\\Python311\\Lib\\site-packages\\tensorflow\\python\\eager\\polymorphic_function\\polymorphic_function.py:876\u001b[0m, in \u001b[0;36mFunction._call\u001b[1;34m(self, *args, **kwds)\u001b[0m\n\u001b[0;32m    873\u001b[0m \u001b[39mself\u001b[39m\u001b[39m.\u001b[39m_lock\u001b[39m.\u001b[39mrelease()\n\u001b[0;32m    874\u001b[0m \u001b[39m# In this case we have not created variables on the first call. So we can\u001b[39;00m\n\u001b[0;32m    875\u001b[0m \u001b[39m# run the first trace but we should fail if variables are created.\u001b[39;00m\n\u001b[1;32m--> 876\u001b[0m results \u001b[39m=\u001b[39m tracing_compilation\u001b[39m.\u001b[39;49mcall_function(\n\u001b[0;32m    877\u001b[0m     args, kwds, \u001b[39mself\u001b[39;49m\u001b[39m.\u001b[39;49m_variable_creation_config\n\u001b[0;32m    878\u001b[0m )\n\u001b[0;32m    879\u001b[0m \u001b[39mif\u001b[39;00m \u001b[39mself\u001b[39m\u001b[39m.\u001b[39m_created_variables:\n\u001b[0;32m    880\u001b[0m   \u001b[39mraise\u001b[39;00m \u001b[39mValueError\u001b[39;00m(\u001b[39m\"\u001b[39m\u001b[39mCreating variables on a non-first call to a function\u001b[39m\u001b[39m\"\u001b[39m\n\u001b[0;32m    881\u001b[0m                    \u001b[39m\"\u001b[39m\u001b[39m decorated with tf.function.\u001b[39m\u001b[39m\"\u001b[39m)\n",
      "File \u001b[1;32mc:\\Users\\abhij\\AppData\\Local\\Programs\\Python\\Python311\\Lib\\site-packages\\tensorflow\\python\\eager\\polymorphic_function\\tracing_compilation.py:139\u001b[0m, in \u001b[0;36mcall_function\u001b[1;34m(args, kwargs, tracing_options)\u001b[0m\n\u001b[0;32m    137\u001b[0m bound_args \u001b[39m=\u001b[39m function\u001b[39m.\u001b[39mfunction_type\u001b[39m.\u001b[39mbind(\u001b[39m*\u001b[39margs, \u001b[39m*\u001b[39m\u001b[39m*\u001b[39mkwargs)\n\u001b[0;32m    138\u001b[0m flat_inputs \u001b[39m=\u001b[39m function\u001b[39m.\u001b[39mfunction_type\u001b[39m.\u001b[39munpack_inputs(bound_args)\n\u001b[1;32m--> 139\u001b[0m \u001b[39mreturn\u001b[39;00m function\u001b[39m.\u001b[39;49m_call_flat(  \u001b[39m# pylint: disable=protected-access\u001b[39;49;00m\n\u001b[0;32m    140\u001b[0m     flat_inputs, captured_inputs\u001b[39m=\u001b[39;49mfunction\u001b[39m.\u001b[39;49mcaptured_inputs\n\u001b[0;32m    141\u001b[0m )\n",
      "File \u001b[1;32mc:\\Users\\abhij\\AppData\\Local\\Programs\\Python\\Python311\\Lib\\site-packages\\tensorflow\\python\\eager\\polymorphic_function\\concrete_function.py:1264\u001b[0m, in \u001b[0;36mConcreteFunction._call_flat\u001b[1;34m(self, tensor_inputs, captured_inputs)\u001b[0m\n\u001b[0;32m   1260\u001b[0m possible_gradient_type \u001b[39m=\u001b[39m gradients_util\u001b[39m.\u001b[39mPossibleTapeGradientTypes(args)\n\u001b[0;32m   1261\u001b[0m \u001b[39mif\u001b[39;00m (possible_gradient_type \u001b[39m==\u001b[39m gradients_util\u001b[39m.\u001b[39mPOSSIBLE_GRADIENT_TYPES_NONE\n\u001b[0;32m   1262\u001b[0m     \u001b[39mand\u001b[39;00m executing_eagerly):\n\u001b[0;32m   1263\u001b[0m   \u001b[39m# No tape is watching; skip to running the function.\u001b[39;00m\n\u001b[1;32m-> 1264\u001b[0m   \u001b[39mreturn\u001b[39;00m \u001b[39mself\u001b[39;49m\u001b[39m.\u001b[39;49m_inference_function\u001b[39m.\u001b[39;49mflat_call(args)\n\u001b[0;32m   1265\u001b[0m forward_backward \u001b[39m=\u001b[39m \u001b[39mself\u001b[39m\u001b[39m.\u001b[39m_select_forward_and_backward_functions(\n\u001b[0;32m   1266\u001b[0m     args,\n\u001b[0;32m   1267\u001b[0m     possible_gradient_type,\n\u001b[0;32m   1268\u001b[0m     executing_eagerly)\n\u001b[0;32m   1269\u001b[0m forward_function, args_with_tangents \u001b[39m=\u001b[39m forward_backward\u001b[39m.\u001b[39mforward()\n",
      "File \u001b[1;32mc:\\Users\\abhij\\AppData\\Local\\Programs\\Python\\Python311\\Lib\\site-packages\\tensorflow\\python\\eager\\polymorphic_function\\atomic_function.py:217\u001b[0m, in \u001b[0;36mAtomicFunction.flat_call\u001b[1;34m(self, args)\u001b[0m\n\u001b[0;32m    215\u001b[0m \u001b[39mdef\u001b[39;00m \u001b[39mflat_call\u001b[39m(\u001b[39mself\u001b[39m, args: Sequence[core\u001b[39m.\u001b[39mTensor]) \u001b[39m-\u001b[39m\u001b[39m>\u001b[39m Any:\n\u001b[0;32m    216\u001b[0m \u001b[39m  \u001b[39m\u001b[39m\"\"\"Calls with tensor inputs and returns the structured output.\"\"\"\u001b[39;00m\n\u001b[1;32m--> 217\u001b[0m   flat_outputs \u001b[39m=\u001b[39m \u001b[39mself\u001b[39;49m(\u001b[39m*\u001b[39;49margs)\n\u001b[0;32m    218\u001b[0m   \u001b[39mreturn\u001b[39;00m \u001b[39mself\u001b[39m\u001b[39m.\u001b[39mfunction_type\u001b[39m.\u001b[39mpack_output(flat_outputs)\n",
      "File \u001b[1;32mc:\\Users\\abhij\\AppData\\Local\\Programs\\Python\\Python311\\Lib\\site-packages\\tensorflow\\python\\eager\\polymorphic_function\\atomic_function.py:252\u001b[0m, in \u001b[0;36mAtomicFunction.__call__\u001b[1;34m(self, *args)\u001b[0m\n\u001b[0;32m    250\u001b[0m \u001b[39mwith\u001b[39;00m record\u001b[39m.\u001b[39mstop_recording():\n\u001b[0;32m    251\u001b[0m   \u001b[39mif\u001b[39;00m \u001b[39mself\u001b[39m\u001b[39m.\u001b[39m_bound_context\u001b[39m.\u001b[39mexecuting_eagerly():\n\u001b[1;32m--> 252\u001b[0m     outputs \u001b[39m=\u001b[39m \u001b[39mself\u001b[39;49m\u001b[39m.\u001b[39;49m_bound_context\u001b[39m.\u001b[39;49mcall_function(\n\u001b[0;32m    253\u001b[0m         \u001b[39mself\u001b[39;49m\u001b[39m.\u001b[39;49mname,\n\u001b[0;32m    254\u001b[0m         \u001b[39mlist\u001b[39;49m(args),\n\u001b[0;32m    255\u001b[0m         \u001b[39mlen\u001b[39;49m(\u001b[39mself\u001b[39;49m\u001b[39m.\u001b[39;49mfunction_type\u001b[39m.\u001b[39;49mflat_outputs),\n\u001b[0;32m    256\u001b[0m     )\n\u001b[0;32m    257\u001b[0m   \u001b[39melse\u001b[39;00m:\n\u001b[0;32m    258\u001b[0m     outputs \u001b[39m=\u001b[39m make_call_op_in_graph(\n\u001b[0;32m    259\u001b[0m         \u001b[39mself\u001b[39m,\n\u001b[0;32m    260\u001b[0m         \u001b[39mlist\u001b[39m(args),\n\u001b[0;32m    261\u001b[0m         \u001b[39mself\u001b[39m\u001b[39m.\u001b[39m_bound_context\u001b[39m.\u001b[39mfunction_call_options\u001b[39m.\u001b[39mas_attrs(),\n\u001b[0;32m    262\u001b[0m     )\n",
      "File \u001b[1;32mc:\\Users\\abhij\\AppData\\Local\\Programs\\Python\\Python311\\Lib\\site-packages\\tensorflow\\python\\eager\\context.py:1479\u001b[0m, in \u001b[0;36mContext.call_function\u001b[1;34m(self, name, tensor_inputs, num_outputs)\u001b[0m\n\u001b[0;32m   1477\u001b[0m cancellation_context \u001b[39m=\u001b[39m cancellation\u001b[39m.\u001b[39mcontext()\n\u001b[0;32m   1478\u001b[0m \u001b[39mif\u001b[39;00m cancellation_context \u001b[39mis\u001b[39;00m \u001b[39mNone\u001b[39;00m:\n\u001b[1;32m-> 1479\u001b[0m   outputs \u001b[39m=\u001b[39m execute\u001b[39m.\u001b[39;49mexecute(\n\u001b[0;32m   1480\u001b[0m       name\u001b[39m.\u001b[39;49mdecode(\u001b[39m\"\u001b[39;49m\u001b[39mutf-8\u001b[39;49m\u001b[39m\"\u001b[39;49m),\n\u001b[0;32m   1481\u001b[0m       num_outputs\u001b[39m=\u001b[39;49mnum_outputs,\n\u001b[0;32m   1482\u001b[0m       inputs\u001b[39m=\u001b[39;49mtensor_inputs,\n\u001b[0;32m   1483\u001b[0m       attrs\u001b[39m=\u001b[39;49mattrs,\n\u001b[0;32m   1484\u001b[0m       ctx\u001b[39m=\u001b[39;49m\u001b[39mself\u001b[39;49m,\n\u001b[0;32m   1485\u001b[0m   )\n\u001b[0;32m   1486\u001b[0m \u001b[39melse\u001b[39;00m:\n\u001b[0;32m   1487\u001b[0m   outputs \u001b[39m=\u001b[39m execute\u001b[39m.\u001b[39mexecute_with_cancellation(\n\u001b[0;32m   1488\u001b[0m       name\u001b[39m.\u001b[39mdecode(\u001b[39m\"\u001b[39m\u001b[39mutf-8\u001b[39m\u001b[39m\"\u001b[39m),\n\u001b[0;32m   1489\u001b[0m       num_outputs\u001b[39m=\u001b[39mnum_outputs,\n\u001b[1;32m   (...)\u001b[0m\n\u001b[0;32m   1493\u001b[0m       cancellation_manager\u001b[39m=\u001b[39mcancellation_context,\n\u001b[0;32m   1494\u001b[0m   )\n",
      "File \u001b[1;32mc:\\Users\\abhij\\AppData\\Local\\Programs\\Python\\Python311\\Lib\\site-packages\\tensorflow\\python\\eager\\execute.py:60\u001b[0m, in \u001b[0;36mquick_execute\u001b[1;34m(op_name, num_outputs, inputs, attrs, ctx, name)\u001b[0m\n\u001b[0;32m     53\u001b[0m   \u001b[39m# Convert any objects of type core_types.Tensor to Tensor.\u001b[39;00m\n\u001b[0;32m     54\u001b[0m   inputs \u001b[39m=\u001b[39m [\n\u001b[0;32m     55\u001b[0m       tensor_conversion_registry\u001b[39m.\u001b[39mconvert(t)\n\u001b[0;32m     56\u001b[0m       \u001b[39mif\u001b[39;00m \u001b[39misinstance\u001b[39m(t, core_types\u001b[39m.\u001b[39mTensor)\n\u001b[0;32m     57\u001b[0m       \u001b[39melse\u001b[39;00m t\n\u001b[0;32m     58\u001b[0m       \u001b[39mfor\u001b[39;00m t \u001b[39min\u001b[39;00m inputs\n\u001b[0;32m     59\u001b[0m   ]\n\u001b[1;32m---> 60\u001b[0m   tensors \u001b[39m=\u001b[39m pywrap_tfe\u001b[39m.\u001b[39;49mTFE_Py_Execute(ctx\u001b[39m.\u001b[39;49m_handle, device_name, op_name,\n\u001b[0;32m     61\u001b[0m                                       inputs, attrs, num_outputs)\n\u001b[0;32m     62\u001b[0m \u001b[39mexcept\u001b[39;00m core\u001b[39m.\u001b[39m_NotOkStatusException \u001b[39mas\u001b[39;00m e:\n\u001b[0;32m     63\u001b[0m   \u001b[39mif\u001b[39;00m name \u001b[39mis\u001b[39;00m \u001b[39mnot\u001b[39;00m \u001b[39mNone\u001b[39;00m:\n",
      "\u001b[1;31mKeyboardInterrupt\u001b[0m: "
     ]
    }
   ],
   "source": [
    "def bleu_score(model, tokenizer, sources, raw_dataset):\n",
    "    actual, predicted = [], []\n",
    "    for i, source in enumerate(sources):\n",
    "        source = source.reshape((1,source.shape[0]))\n",
    "        translation = predict_seq(model, tar_tokenizer, source)\n",
    "        raw_target, raw_src = raw_dataset[i]\n",
    "        actual.append([raw_target.split()])\n",
    "        predicted.append(translation.split())\n",
    "\n",
    "    bleu_dic = {}\n",
    "    bleu_dic['1-grams'] = corpus_bleu(actual, predicted, weights=(1.0,0,0,0))\n",
    "    bleu_dic['1-2-grams'] = corpus_bleu(actual, predicted, weights=(0.5, 0.5, 0, 0))\n",
    "    bleu_dic['1-3-grams'] = corpus_bleu(actual, predicted, weights=(0.3, 0.3, 0.3, 0))\n",
    "    bleu_dic['1-4-grams'] = corpus_bleu(actual, predicted, weights=(0.25, 0.25, 0.25, 0.25))\n",
    "\n",
    "    return bleu_dic\n",
    "\n",
    "bleu_train = bleu_score(model, tar_tokenizer, trainX, train)\n",
    "bleu_test = bleu_score(model, tar_tokenizer, testX, test)\n",
    "\n",
    "plt.bar(x = bleu_train.keys(), height = bleu_train.values())\n",
    "plt.title(\"BLEU score with the training set\")\n",
    "plt.ylim((0,1))\n",
    "plt.show()"
   ]
  },
  {
   "cell_type": "code",
   "execution_count": null,
   "metadata": {},
   "outputs": [],
   "source": [
    "plt.bar(x = bleu_test.keys(), height = bleu_test.values())\n",
    "plt.title(\"BLEU Score with the test set\")\n",
    "plt.ylim((0,1))\n",
    "plt.show()"
   ]
  }
 ],
 "metadata": {
  "kernelspec": {
   "display_name": "Python 3",
   "language": "python",
   "name": "python3"
  },
  "language_info": {
   "codemirror_mode": {
    "name": "ipython",
    "version": 3
   },
   "file_extension": ".py",
   "mimetype": "text/x-python",
   "name": "python",
   "nbconvert_exporter": "python",
   "pygments_lexer": "ipython3",
   "version": "3.11.4"
  },
  "orig_nbformat": 4
 },
 "nbformat": 4,
 "nbformat_minor": 2
}
